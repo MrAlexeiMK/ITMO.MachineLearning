{
 "cells": [
  {
   "cell_type": "code",
   "execution_count": 1,
   "metadata": {},
   "outputs": [],
   "source": [
    "import numpy as np\n",
    "import matplotlib.pyplot as plt\n",
    "import numpy\n",
    "import matplotlib\n",
    "import pandas as pd\n",
    "import scipy\n",
    "from scipy.spatial import distance\n",
    "from sklearn.preprocessing import MinMaxScaler\n",
    "from sklearn.svm import LinearSVC\n",
    "from sklearn.decomposition import PCA\n",
    "from sklearn import datasets\n",
    "from sklearn import linear_model\n",
    "from sklearn import neighbors\n",
    "from sklearn.linear_model import LogisticRegression\n",
    "from sklearn.model_selection import train_test_split\n",
    "from sklearn import metrics\n",
    "from imutils import paths\n",
    "import os\n",
    "from sklearn.cluster import KMeans\n",
    "from sklearn.metrics import classification_report\n",
    "import cv2\n",
    "\n",
    "%matplotlib inline"
   ]
  },
  {
   "cell_type": "code",
   "execution_count": 2,
   "metadata": {},
   "outputs": [
    {
     "data": {
      "text/html": [
       "<div>\n",
       "<style scoped>\n",
       "    .dataframe tbody tr th:only-of-type {\n",
       "        vertical-align: middle;\n",
       "    }\n",
       "\n",
       "    .dataframe tbody tr th {\n",
       "        vertical-align: top;\n",
       "    }\n",
       "\n",
       "    .dataframe thead th {\n",
       "        text-align: right;\n",
       "    }\n",
       "</style>\n",
       "<table border=\"1\" class=\"dataframe\">\n",
       "  <thead>\n",
       "    <tr style=\"text-align: right;\">\n",
       "      <th></th>\n",
       "      <th>X</th>\n",
       "      <th>Y</th>\n",
       "      <th>Cluster</th>\n",
       "    </tr>\n",
       "    <tr>\n",
       "      <th>Object</th>\n",
       "      <th></th>\n",
       "      <th></th>\n",
       "      <th></th>\n",
       "    </tr>\n",
       "  </thead>\n",
       "  <tbody>\n",
       "    <tr>\n",
       "      <th>1</th>\n",
       "      <td>15</td>\n",
       "      <td>16</td>\n",
       "      <td>0</td>\n",
       "    </tr>\n",
       "    <tr>\n",
       "      <th>2</th>\n",
       "      <td>7</td>\n",
       "      <td>11</td>\n",
       "      <td>1</td>\n",
       "    </tr>\n",
       "    <tr>\n",
       "      <th>3</th>\n",
       "      <td>15</td>\n",
       "      <td>4</td>\n",
       "      <td>2</td>\n",
       "    </tr>\n",
       "    <tr>\n",
       "      <th>4</th>\n",
       "      <td>2</td>\n",
       "      <td>3</td>\n",
       "      <td>0</td>\n",
       "    </tr>\n",
       "    <tr>\n",
       "      <th>5</th>\n",
       "      <td>16</td>\n",
       "      <td>13</td>\n",
       "      <td>2</td>\n",
       "    </tr>\n",
       "  </tbody>\n",
       "</table>\n",
       "</div>"
      ],
      "text/plain": [
       "         X   Y  Cluster\n",
       "Object                 \n",
       "1       15  16        0\n",
       "2        7  11        1\n",
       "3       15   4        2\n",
       "4        2   3        0\n",
       "5       16  13        2"
      ]
     },
     "execution_count": 2,
     "metadata": {},
     "output_type": "execute_result"
    }
   ],
   "source": [
    "data = pd.read_csv(\"data.csv\", delimiter=',', index_col='Object')\n",
    "data.head()"
   ]
  },
  {
   "cell_type": "code",
   "execution_count": 4,
   "metadata": {},
   "outputs": [],
   "source": [
    "coords = data.drop('Cluster', axis=1)"
   ]
  },
  {
   "cell_type": "code",
   "execution_count": 8,
   "metadata": {},
   "outputs": [
    {
     "data": {
      "text/plain": [
       "KMeans(init=array([[13.5 ,  8.75],\n",
       "       [11.67, 10.33],\n",
       "       [ 9.8 ,  9.  ]]),\n",
       "       max_iter=100, n_clusters=3, n_init=1)"
      ]
     },
     "execution_count": 8,
     "metadata": {},
     "output_type": "execute_result"
    }
   ],
   "source": [
    "kmeans = KMeans(n_clusters=3, init=np.array([[13.5, 8.75], [11.67, 10.33], [9.8, 9.0]]), max_iter=100, n_init=1)\n",
    "kmeans.fit(coords)"
   ]
  },
  {
   "cell_type": "code",
   "execution_count": 12,
   "metadata": {},
   "outputs": [
    {
     "name": "stdout",
     "output_type": "stream",
     "text": [
      "[1, 2, 0, 2, 1, 0, 1, 2, 2, 2, 0, 0, 1, 1, 0]\n"
     ]
    }
   ],
   "source": [
    "l = model.labels_.tolist()\n",
    "print(l)"
   ]
  },
  {
   "cell_type": "code",
   "execution_count": 10,
   "metadata": {},
   "outputs": [
    {
     "data": {
      "text/plain": [
       "array([[ 8.71320836,  1.78885438, 14.42497834],\n",
       "       [10.06578363,  7.65506368,  5.64623769],\n",
       "       [ 3.67695526, 11.3137085 , 10.3576059 ],\n",
       "       [15.05722418, 16.69730517,  3.95979797],\n",
       "       [ 5.61426754,  3.40587727, 13.31465358],\n",
       "       [ 2.66833281,  6.32455532, 12.90271289],\n",
       "       [ 9.66022774,  1.61245155, 12.48519123],\n",
       "       [ 9.70154627, 12.04159458,  2.34093998],\n",
       "       [15.46350542, 15.44020725,  3.80525952],\n",
       "       [ 9.9959992 , 12.8996124 ,  2.84253408],\n",
       "       [ 0.56568542,  8.60232527, 11.26410227],\n",
       "       [ 3.86264158, 11.32254388, 15.20131573],\n",
       "       [ 7.02281995,  1.34164079, 12.3239604 ],\n",
       "       [11.53776408,  3.84707681, 12.34827923],\n",
       "       [ 3.5383612 ,  5.23450093, 10.1133575 ]])"
      ]
     },
     "execution_count": 10,
     "metadata": {},
     "output_type": "execute_result"
    }
   ],
   "source": [
    "dis = kmeans.fit_transform(coords)\n",
    "dis"
   ]
  },
  {
   "cell_type": "code",
   "execution_count": 11,
   "metadata": {},
   "outputs": [
    {
     "name": "stdout",
     "output_type": "stream",
     "text": [
      "2.862395257140198\n"
     ]
    }
   ],
   "source": [
    "m = 0\n",
    "c = 0\n",
    "for i in range(0, len(l)):\n",
    "    if l[i] == 0:\n",
    "        m+=dis[i][0]\n",
    "        c+=1\n",
    "print(m/c)"
   ]
  },
  {
   "cell_type": "code",
   "execution_count": null,
   "metadata": {},
   "outputs": [],
   "source": []
  }
 ],
 "metadata": {
  "kernelspec": {
   "display_name": "Python 3",
   "language": "python",
   "name": "python3"
  },
  "language_info": {
   "codemirror_mode": {
    "name": "ipython",
    "version": 3
   },
   "file_extension": ".py",
   "mimetype": "text/x-python",
   "name": "python",
   "nbconvert_exporter": "python",
   "pygments_lexer": "ipython3",
   "version": "3.8.2"
  }
 },
 "nbformat": 4,
 "nbformat_minor": 4
}

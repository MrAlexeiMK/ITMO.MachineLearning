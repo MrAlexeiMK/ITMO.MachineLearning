{
 "cells": [
  {
   "cell_type": "code",
   "execution_count": 79,
   "metadata": {},
   "outputs": [],
   "source": [
    "import tensorflow as tf\n",
    "from tensorflow import keras\n",
    "import numpy as np\n",
    "import matplotlib.pyplot as plt\n",
    "import numpy\n",
    "import matplotlib\n",
    "import pandas as pd\n",
    "from scipy.spatial import distance\n",
    "from sklearn.preprocessing import MinMaxScaler\n",
    "\n",
    "scaler = MinMaxScaler()"
   ]
  },
  {
   "cell_type": "code",
   "execution_count": 88,
   "metadata": {
    "scrolled": false
   },
   "outputs": [
    {
     "data": {
      "text/html": [
       "<div>\n",
       "<style scoped>\n",
       "    .dataframe tbody tr th:only-of-type {\n",
       "        vertical-align: middle;\n",
       "    }\n",
       "\n",
       "    .dataframe tbody tr th {\n",
       "        vertical-align: top;\n",
       "    }\n",
       "\n",
       "    .dataframe thead th {\n",
       "        text-align: right;\n",
       "    }\n",
       "</style>\n",
       "<table border=\"1\" class=\"dataframe\">\n",
       "  <thead>\n",
       "    <tr style=\"text-align: right;\">\n",
       "      <th></th>\n",
       "      <th>MIP</th>\n",
       "      <th>STDIP</th>\n",
       "      <th>EKIP</th>\n",
       "      <th>SIP</th>\n",
       "      <th>MC</th>\n",
       "      <th>STDC</th>\n",
       "      <th>EKC</th>\n",
       "      <th>SC</th>\n",
       "      <th>TARGET</th>\n",
       "    </tr>\n",
       "  </thead>\n",
       "  <tbody>\n",
       "    <tr>\n",
       "      <th>0</th>\n",
       "      <td>53.789062</td>\n",
       "      <td>30.062085</td>\n",
       "      <td>3.231805</td>\n",
       "      <td>18.011655</td>\n",
       "      <td>30.670569</td>\n",
       "      <td>67.752058</td>\n",
       "      <td>1.972958</td>\n",
       "      <td>2.336556</td>\n",
       "      <td>1</td>\n",
       "    </tr>\n",
       "    <tr>\n",
       "      <th>1</th>\n",
       "      <td>88.250000</td>\n",
       "      <td>39.046047</td>\n",
       "      <td>0.571522</td>\n",
       "      <td>1.470493</td>\n",
       "      <td>4.650502</td>\n",
       "      <td>25.669724</td>\n",
       "      <td>6.217865</td>\n",
       "      <td>40.987388</td>\n",
       "      <td>0</td>\n",
       "    </tr>\n",
       "    <tr>\n",
       "      <th>2</th>\n",
       "      <td>55.187500</td>\n",
       "      <td>35.726773</td>\n",
       "      <td>2.206251</td>\n",
       "      <td>8.562220</td>\n",
       "      <td>32.508361</td>\n",
       "      <td>59.498159</td>\n",
       "      <td>1.812744</td>\n",
       "      <td>2.443437</td>\n",
       "      <td>1</td>\n",
       "    </tr>\n",
       "    <tr>\n",
       "      <th>3</th>\n",
       "      <td>87.750000</td>\n",
       "      <td>38.204630</td>\n",
       "      <td>0.851328</td>\n",
       "      <td>2.376166</td>\n",
       "      <td>2.226589</td>\n",
       "      <td>15.082094</td>\n",
       "      <td>9.076639</td>\n",
       "      <td>102.732359</td>\n",
       "      <td>0</td>\n",
       "    </tr>\n",
       "    <tr>\n",
       "      <th>4</th>\n",
       "      <td>58.437500</td>\n",
       "      <td>47.269631</td>\n",
       "      <td>2.148539</td>\n",
       "      <td>4.683292</td>\n",
       "      <td>55.520067</td>\n",
       "      <td>74.838212</td>\n",
       "      <td>1.138116</td>\n",
       "      <td>-0.027806</td>\n",
       "      <td>1</td>\n",
       "    </tr>\n",
       "  </tbody>\n",
       "</table>\n",
       "</div>"
      ],
      "text/plain": [
       "         MIP      STDIP      EKIP        SIP         MC       STDC       EKC  \\\n",
       "0  53.789062  30.062085  3.231805  18.011655  30.670569  67.752058  1.972958   \n",
       "1  88.250000  39.046047  0.571522   1.470493   4.650502  25.669724  6.217865   \n",
       "2  55.187500  35.726773  2.206251   8.562220  32.508361  59.498159  1.812744   \n",
       "3  87.750000  38.204630  0.851328   2.376166   2.226589  15.082094  9.076639   \n",
       "4  58.437500  47.269631  2.148539   4.683292  55.520067  74.838212  1.138116   \n",
       "\n",
       "           SC  TARGET  \n",
       "0    2.336556       1  \n",
       "1   40.987388       0  \n",
       "2    2.443437       1  \n",
       "3  102.732359       0  \n",
       "4   -0.027806       1  "
      ]
     },
     "execution_count": 88,
     "metadata": {},
     "output_type": "execute_result"
    }
   ],
   "source": [
    "df = pd.read_csv(\"report.csv\", sep=\",\")\n",
    "df.head()"
   ]
  },
  {
   "cell_type": "code",
   "execution_count": 89,
   "metadata": {},
   "outputs": [
    {
     "data": {
      "text/plain": [
       "72.01322710396039"
      ]
     },
     "execution_count": 89,
     "metadata": {},
     "output_type": "execute_result"
    }
   ],
   "source": [
    "df[\"MIP\"].mean()"
   ]
  },
  {
   "cell_type": "code",
   "execution_count": 90,
   "metadata": {},
   "outputs": [
    {
     "data": {
      "text/html": [
       "<div>\n",
       "<style scoped>\n",
       "    .dataframe tbody tr th:only-of-type {\n",
       "        vertical-align: middle;\n",
       "    }\n",
       "\n",
       "    .dataframe tbody tr th {\n",
       "        vertical-align: top;\n",
       "    }\n",
       "\n",
       "    .dataframe thead th {\n",
       "        text-align: right;\n",
       "    }\n",
       "</style>\n",
       "<table border=\"1\" class=\"dataframe\">\n",
       "  <thead>\n",
       "    <tr style=\"text-align: right;\">\n",
       "      <th></th>\n",
       "      <th>MIP</th>\n",
       "      <th>STDIP</th>\n",
       "      <th>EKIP</th>\n",
       "      <th>SIP</th>\n",
       "      <th>MC</th>\n",
       "      <th>STDC</th>\n",
       "      <th>EKC</th>\n",
       "      <th>SC</th>\n",
       "      <th>TARGET</th>\n",
       "    </tr>\n",
       "  </thead>\n",
       "  <tbody>\n",
       "    <tr>\n",
       "      <th>0</th>\n",
       "      <td>0.024171</td>\n",
       "      <td>0.120899</td>\n",
       "      <td>0.820927</td>\n",
       "      <td>0.699188</td>\n",
       "      <td>0.158267</td>\n",
       "      <td>0.668868</td>\n",
       "      <td>0.122781</td>\n",
       "      <td>0.005808</td>\n",
       "      <td>1.0</td>\n",
       "    </tr>\n",
       "    <tr>\n",
       "      <th>1</th>\n",
       "      <td>0.993408</td>\n",
       "      <td>0.419886</td>\n",
       "      <td>0.059686</td>\n",
       "      <td>0.059765</td>\n",
       "      <td>0.022172</td>\n",
       "      <td>0.193411</td>\n",
       "      <td>0.282326</td>\n",
       "      <td>0.061030</td>\n",
       "      <td>0.0</td>\n",
       "    </tr>\n",
       "    <tr>\n",
       "      <th>2</th>\n",
       "      <td>0.063503</td>\n",
       "      <td>0.309420</td>\n",
       "      <td>0.527464</td>\n",
       "      <td>0.333906</td>\n",
       "      <td>0.167880</td>\n",
       "      <td>0.575613</td>\n",
       "      <td>0.116759</td>\n",
       "      <td>0.005960</td>\n",
       "      <td>1.0</td>\n",
       "    </tr>\n",
       "    <tr>\n",
       "      <th>3</th>\n",
       "      <td>0.979345</td>\n",
       "      <td>0.391884</td>\n",
       "      <td>0.139752</td>\n",
       "      <td>0.094775</td>\n",
       "      <td>0.009494</td>\n",
       "      <td>0.073790</td>\n",
       "      <td>0.389773</td>\n",
       "      <td>0.149247</td>\n",
       "      <td>0.0</td>\n",
       "    </tr>\n",
       "    <tr>\n",
       "      <th>4</th>\n",
       "      <td>0.154911</td>\n",
       "      <td>0.693568</td>\n",
       "      <td>0.510950</td>\n",
       "      <td>0.183960</td>\n",
       "      <td>0.288240</td>\n",
       "      <td>0.748929</td>\n",
       "      <td>0.091403</td>\n",
       "      <td>0.002430</td>\n",
       "      <td>1.0</td>\n",
       "    </tr>\n",
       "  </tbody>\n",
       "</table>\n",
       "</div>"
      ],
      "text/plain": [
       "        MIP     STDIP      EKIP       SIP        MC      STDC       EKC  \\\n",
       "0  0.024171  0.120899  0.820927  0.699188  0.158267  0.668868  0.122781   \n",
       "1  0.993408  0.419886  0.059686  0.059765  0.022172  0.193411  0.282326   \n",
       "2  0.063503  0.309420  0.527464  0.333906  0.167880  0.575613  0.116759   \n",
       "3  0.979345  0.391884  0.139752  0.094775  0.009494  0.073790  0.389773   \n",
       "4  0.154911  0.693568  0.510950  0.183960  0.288240  0.748929  0.091403   \n",
       "\n",
       "         SC  TARGET  \n",
       "0  0.005808     1.0  \n",
       "1  0.061030     0.0  \n",
       "2  0.005960     1.0  \n",
       "3  0.149247     0.0  \n",
       "4  0.002430     1.0  "
      ]
     },
     "execution_count": 90,
     "metadata": {},
     "output_type": "execute_result"
    }
   ],
   "source": [
    "scaler.fit(df)\n",
    "data = pd.DataFrame(scaler.transform(df), columns=df.columns)\n",
    "data.head()"
   ]
  },
  {
   "cell_type": "code",
   "execution_count": 91,
   "metadata": {},
   "outputs": [],
   "source": [
    "data[\"MIP\"].mean()\n",
    "del data[\"TARGET\"]"
   ]
  },
  {
   "cell_type": "code",
   "execution_count": 92,
   "metadata": {},
   "outputs": [],
   "source": [
    "data2 = data.to_numpy()\n",
    "cur = tuple(np.array([0.833, 0.092, 0.443, 0.092, 0.112, 0.86, 0.742, 0.299]))"
   ]
  },
  {
   "cell_type": "code",
   "execution_count": 95,
   "metadata": {},
   "outputs": [
    {
     "name": "stdout",
     "output_type": "stream",
     "text": [
      "0.9033027003473697\n"
     ]
    }
   ],
   "source": [
    "A = []\n",
    "for line in data2:\n",
    "    A.append(distance.euclidean(tuple(line), cur))\n",
    "print(min(A))"
   ]
  },
  {
   "cell_type": "code",
   "execution_count": null,
   "metadata": {},
   "outputs": [],
   "source": []
  }
 ],
 "metadata": {
  "kernelspec": {
   "display_name": "Python 3",
   "language": "python",
   "name": "python3"
  },
  "language_info": {
   "codemirror_mode": {
    "name": "ipython",
    "version": 3
   },
   "file_extension": ".py",
   "mimetype": "text/x-python",
   "name": "python",
   "nbconvert_exporter": "python",
   "pygments_lexer": "ipython3",
   "version": "3.8.2"
  }
 },
 "nbformat": 4,
 "nbformat_minor": 4
}

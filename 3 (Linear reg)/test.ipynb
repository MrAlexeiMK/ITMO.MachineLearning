{
 "cells": [
  {
   "cell_type": "code",
   "execution_count": 7,
   "metadata": {},
   "outputs": [],
   "source": [
    "import numpy as np\n",
    "import matplotlib.pyplot as plt\n",
    "import numpy\n",
    "import matplotlib\n",
    "import pandas as pd\n",
    "import scipy\n",
    "from scipy.spatial import distance\n",
    "from sklearn.preprocessing import MinMaxScaler\n",
    "from sklearn.decomposition import PCA\n",
    "from sklearn import datasets\n",
    "from sklearn import linear_model\n",
    "\n",
    "%matplotlib inline"
   ]
  },
  {
   "cell_type": "code",
   "execution_count": 31,
   "metadata": {},
   "outputs": [
    {
     "data": {
      "text/html": [
       "<div>\n",
       "<style scoped>\n",
       "    .dataframe tbody tr th:only-of-type {\n",
       "        vertical-align: middle;\n",
       "    }\n",
       "\n",
       "    .dataframe tbody tr th {\n",
       "        vertical-align: top;\n",
       "    }\n",
       "\n",
       "    .dataframe thead th {\n",
       "        text-align: right;\n",
       "    }\n",
       "</style>\n",
       "<table border=\"1\" class=\"dataframe\">\n",
       "  <thead>\n",
       "    <tr style=\"text-align: right;\">\n",
       "      <th></th>\n",
       "      <th>id</th>\n",
       "      <th>X</th>\n",
       "      <th>Y</th>\n",
       "    </tr>\n",
       "  </thead>\n",
       "  <tbody>\n",
       "    <tr>\n",
       "      <th>0</th>\n",
       "      <td>1</td>\n",
       "      <td>20</td>\n",
       "      <td>41</td>\n",
       "    </tr>\n",
       "    <tr>\n",
       "      <th>1</th>\n",
       "      <td>2</td>\n",
       "      <td>21</td>\n",
       "      <td>40</td>\n",
       "    </tr>\n",
       "    <tr>\n",
       "      <th>2</th>\n",
       "      <td>3</td>\n",
       "      <td>13</td>\n",
       "      <td>34</td>\n",
       "    </tr>\n",
       "    <tr>\n",
       "      <th>3</th>\n",
       "      <td>4</td>\n",
       "      <td>7</td>\n",
       "      <td>18</td>\n",
       "    </tr>\n",
       "    <tr>\n",
       "      <th>4</th>\n",
       "      <td>5</td>\n",
       "      <td>1</td>\n",
       "      <td>4</td>\n",
       "    </tr>\n",
       "  </tbody>\n",
       "</table>\n",
       "</div>"
      ],
      "text/plain": [
       "   id   X   Y\n",
       "0   1  20  41\n",
       "1   2  21  40\n",
       "2   3  13  34\n",
       "3   4   7  18\n",
       "4   5   1   4"
      ]
     },
     "execution_count": 31,
     "metadata": {},
     "output_type": "execute_result"
    }
   ],
   "source": [
    "df = pd.read_csv(\"1.csv\", sep=\",\")\n",
    "df.head()"
   ]
  },
  {
   "cell_type": "code",
   "execution_count": 33,
   "metadata": {},
   "outputs": [
    {
     "name": "stdout",
     "output_type": "stream",
     "text": [
      "13.1\n",
      "28.5\n"
     ]
    },
    {
     "data": {
      "text/plain": [
       "<matplotlib.collections.PathCollection at 0x2ab5407be50>"
      ]
     },
     "execution_count": 33,
     "metadata": {},
     "output_type": "execute_result"
    },
    {
     "data": {
      "image/png": "[encoded data removed]",
      "text/plain": [
       "<Figure size 432x288 with 1 Axes>"
      ]
     },
     "metadata": {
      "needs_background": "light"
     },
     "output_type": "display_data"
    }
   ],
   "source": [
    "n = len(df[\"X\"])\n",
    "X = df[\"X\"]\n",
    "Y = df[\"Y\"]\n",
    "X_ = sum(X)/n\n",
    "print(X_)\n",
    "Y_ = sum(Y)/n\n",
    "print(Y_)\n",
    "plt.scatter(X, Y)"
   ]
  },
  {
   "cell_type": "code",
   "execution_count": 34,
   "metadata": {},
   "outputs": [],
   "source": [
    "xy = sum([X[i]*Y[i] for i in range(0, n)])\n",
    "X2 = sum([X[i]*X[i] for i in range(0, n)])"
   ]
  },
  {
   "cell_type": "code",
   "execution_count": 40,
   "metadata": {},
   "outputs": [
    {
     "name": "stdout",
     "output_type": "stream",
     "text": [
      "1.6703817219281136\n",
      "6.617999442741711\n",
      "0.8020775669170238\n"
     ]
    },
    {
     "data": {
      "text/plain": [
       "<matplotlib.collections.PathCollection at 0x2ab542b5bb0>"
      ]
     },
     "execution_count": 40,
     "metadata": {},
     "output_type": "execute_result"
    },
    {
     "data": {
      "image/png": "[encoded data removed]",
      "text/plain": [
       "<Figure size 432x288 with 1 Axes>"
      ]
     },
     "metadata": {
      "needs_background": "light"
     },
     "output_type": "display_data"
    }
   ],
   "source": [
    "a = (n*xy-sum(X)*sum(Y))/(n*X2 - sum(X)**2)\n",
    "b = (sum(Y) - a*sum(X))/n\n",
    "print(a)\n",
    "print(b)\n",
    "y = [a*X[i]+b for i in range(0, n)]\n",
    "R2 = sum([abs(y[i]-Y_)**2 for i in range(0, n)])/sum([abs(Y[i]-Y_)**2 for i in range(0, n)])\n",
    "print(R2)\n",
    "plt.plot([X[0], X[n-1]], [y[0], y[n-1]])\n",
    "plt.scatter(X, Y)"
   ]
  },
  {
   "cell_type": "code",
   "execution_count": 21,
   "metadata": {},
   "outputs": [],
   "source": [
    "regressor = linear_model.LinearRegression() "
   ]
  },
  {
   "cell_type": "code",
   "execution_count": 23,
   "metadata": {},
   "outputs": [
    {
     "name": "stdout",
     "output_type": "stream",
     "text": [
      "[[1.         0.         1.         0.         0.         1.\n",
      "  0.         1.         0.         0.73199999 0.86000001]\n",
      " [1.         0.         0.         0.         1.         0.\n",
      "  0.         1.         0.         0.60399997 0.51099998]\n",
      " [0.         0.         0.         0.         0.         0.\n",
      "  0.         0.         0.         0.011      0.116     ]\n",
      " [0.         0.         0.         0.         0.         0.\n",
      "  0.         0.         0.         0.011      0.51099998]\n",
      " [0.         1.         0.         0.         0.         0.\n",
      "  0.         0.         0.         0.90600002 0.51099998]\n",
      " [1.         0.         0.         1.         0.         0.\n",
      "  0.         1.         0.         0.465      0.76700002]\n",
      " [1.         0.         1.         1.         1.         0.\n",
      "  0.         1.         0.         0.60399997 0.76700002]\n",
      " [0.         0.         0.         1.         0.         0.\n",
      "  0.         0.         1.         0.31299999 0.51099998]\n",
      " [0.         0.         0.         0.         0.         0.\n",
      "  0.         0.         1.         0.90600002 0.32499999]\n",
      " [0.         1.         1.         0.         0.         0.\n",
      "  0.         0.         0.         0.60399997 0.32499999]\n",
      " [1.         0.         0.         0.         1.         0.\n",
      "  0.         1.         0.         0.60399997 0.51099998]\n",
      " [0.         1.         0.         0.         0.         0.\n",
      "  0.         0.         1.         0.73199999 0.51099998]\n",
      " [0.         1.         0.         0.         0.         0.\n",
      "  0.         0.         1.         0.046      0.32499999]\n",
      " [0.         1.         0.         0.         0.         0.\n",
      "  0.         0.         1.         0.73199999 0.51099998]\n",
      " [0.         1.         0.         0.         0.         0.\n",
      "  1.         0.         0.         0.73199999 0.034     ]\n",
      " [0.         1.         0.         0.         0.         0.\n",
      "  0.         0.         1.         0.127      0.034     ]\n",
      " [0.         1.         0.         0.         0.         0.\n",
      "  1.         0.         0.         0.73199999 0.32499999]\n",
      " [0.         1.         0.         0.         0.         0.\n",
      "  1.         0.         1.         0.90600002 0.45300001]\n",
      " [0.         1.         0.         0.         0.         0.\n",
      "  0.         0.         1.         0.465      0.465     ]\n",
      " [0.         0.         0.         0.         0.         0.\n",
      "  0.         0.         1.         0.465      0.465     ]\n",
      " [0.         1.         0.         0.         0.         0.\n",
      "  0.         0.         1.         0.465      0.465     ]\n",
      " [0.         1.         0.         0.         0.         0.\n",
      "  0.         0.         1.         0.465      0.465     ]\n",
      " [1.         0.         0.         0.         0.         0.\n",
      "  0.         0.         1.         0.127      0.093     ]\n",
      " [1.         0.         0.         0.         0.         1.\n",
      "  0.         1.         0.         0.43000001 0.91799998]\n",
      " [1.         0.         0.         0.         0.         0.\n",
      "  0.         1.         0.         0.43000001 0.91799998]\n",
      " [0.         1.         0.         0.         0.         0.\n",
      "  1.         0.         1.         0.093      0.51099998]\n",
      " [1.         0.         0.         0.         0.         0.\n",
      "  0.         0.         1.         0.197      0.51099998]\n",
      " [1.         0.         0.         0.         0.         1.\n",
      "  0.         1.         0.         0.31299999 0.51099998]\n",
      " [0.         1.         0.         0.         0.         0.\n",
      "  0.         0.         0.         0.22       0.116     ]\n",
      " [0.         1.         0.         0.         0.         0.\n",
      "  1.         0.         0.         0.046      0.104     ]\n",
      " [0.         1.         0.         0.         0.         0.\n",
      "  0.         0.         0.         0.26699999 0.27900001]\n",
      " [1.         0.         0.         1.         0.         0.\n",
      "  0.         0.         1.         0.82499999 0.65100002]\n",
      " [1.         0.         0.         0.         0.         0.\n",
      "  0.         0.         1.         0.82499999 0.65100002]\n",
      " [0.         1.         0.         0.         0.         0.\n",
      "  0.         0.         1.         0.87199998 0.32499999]\n",
      " [1.         0.         1.         0.         0.         0.\n",
      "  0.         0.         1.         0.30199999 0.51099998]\n",
      " [1.         0.         1.         0.         1.         0.\n",
      "  0.         1.         0.         0.60399997 0.65100002]\n",
      " [1.         0.         1.         0.         1.         0.\n",
      "  0.         1.         0.         0.73199999 0.44100001]\n",
      " [1.         0.         1.         0.         0.         0.\n",
      "  0.         1.         0.         0.96499997 0.86000001]\n",
      " [1.         0.         0.         0.         0.         0.\n",
      "  0.         1.         0.         0.31299999 0.86000001]\n",
      " [1.         0.         0.         1.         0.         0.\n",
      "  0.         1.         0.         0.31299999 0.91799998]\n",
      " [0.         1.         0.         0.         0.         0.\n",
      "  1.         0.         1.         0.84799999 0.32499999]\n",
      " [1.         0.         0.         1.         0.         0.\n",
      "  0.         1.         0.         0.60399997 0.76700002]\n",
      " [1.         0.         0.         0.         0.         1.\n",
      "  0.         1.         0.         0.31299999 0.76700002]\n",
      " [0.         1.         0.         0.         0.         0.\n",
      "  0.         0.         1.         0.197      0.97600001]\n",
      " [0.         1.         0.         0.         0.         0.\n",
      "  0.         0.         1.         0.22       0.32499999]\n",
      " [1.         0.         0.         1.         0.         0.\n",
      "  0.         0.         1.         0.59299999 0.65100002]\n",
      " [0.         0.         0.         0.         0.         0.\n",
      "  0.         0.         1.         0.093      0.023     ]\n",
      " [0.         1.         0.         0.         0.         0.\n",
      "  1.         0.         1.         0.60399997 0.83700001]\n",
      " [0.         1.         0.         0.         0.         0.\n",
      "  0.         0.         1.         0.58099997 0.116     ]\n",
      " [1.         0.         0.         1.         0.         0.\n",
      "  0.         0.         0.         0.034      0.27900001]\n",
      " [1.         0.         0.         1.         0.         0.\n",
      "  0.         0.         0.         0.72000003 0.65100002]\n",
      " [1.         0.         0.         1.         0.         0.\n",
      "  0.         0.         1.         0.40599999 0.65100002]\n",
      " [1.         0.         0.         1.         0.         0.\n",
      "  0.         0.         0.         0.98799998 0.65100002]\n",
      " [0.         1.         0.         0.         0.         0.\n",
      "  1.         0.         0.         0.73199999 0.96499997]\n",
      " [1.         0.         1.         0.         0.         0.\n",
      "  0.         0.         1.         0.86000001 0.86000001]\n",
      " [0.         0.         0.         0.         0.         0.\n",
      "  1.         0.         1.         0.73199999 0.069     ]\n",
      " [0.         1.         0.         0.         0.         0.\n",
      "  1.         0.         1.         0.87199998 0.27900001]\n",
      " [1.         0.         0.         0.         0.         0.\n",
      "  0.         0.         1.         0.22       0.081     ]\n",
      " [0.         1.         0.         0.         0.         0.\n",
      "  0.         0.         1.         0.94099998 0.22      ]\n",
      " [0.         1.         0.         0.         0.         0.\n",
      "  0.         0.         1.         0.94099998 0.22      ]\n",
      " [1.         0.         0.         0.         0.         0.\n",
      "  0.         0.         1.         0.26699999 0.97600001]\n",
      " [0.         1.         0.         0.         0.         0.\n",
      "  1.         0.         1.         0.26699999 0.116     ]\n",
      " [1.         0.         1.         1.         1.         0.\n",
      "  0.         1.         0.         0.546      0.65100002]\n",
      " [1.         0.         1.         1.         0.         1.\n",
      "  0.         1.         0.         0.60399997 0.65100002]\n",
      " [0.         1.         0.         0.         0.         0.\n",
      "  0.         0.         1.         0.069      0.116     ]\n",
      " [0.         1.         0.         0.         0.         0.\n",
      "  0.         0.         1.         0.069      0.116     ]\n",
      " [0.         1.         0.         0.         0.         0.\n",
      "  0.         0.         1.         0.15099999 0.22      ]\n",
      " [0.         1.         0.         0.         0.         0.\n",
      "  1.         0.         1.         0.56900001 0.058     ]]\n",
      "[66.971725 67.602936 32.261086 46.116505 52.341465 50.347546 56.914547\n",
      " 23.417824 38.010963 34.517681 38.975037 36.017628 24.524988 42.272076\n",
      " 39.460556 43.088924 39.185505 46.783348 57.11974  34.158958 51.41243\n",
      " 42.178772 55.375454 62.284481 59.236122 28.127439 57.21925  76.7686\n",
      " 41.389557 39.141056 52.911392 71.46505  66.574585 46.411716 55.064072\n",
      " 73.099556 60.800701 64.35334  47.829754 54.526451 55.354046 70.735641\n",
      " 66.47068  22.445341 39.4468   69.483788 37.722336 41.265511 37.348522\n",
      " 81.866257 84.18029  73.43499  72.887901 35.290756 65.716286 29.703691\n",
      " 42.849144 34.722    63.08514  55.103695 37.887188 45.995827 76.673782\n",
      " 59.529251 59.863998 52.825947 67.037628 34.578991]\n",
      "[[1.         0.         0.         0.         0.         0.\n",
      "  0.         1.         0.         0.43000001 0.91799998]\n",
      " [0.         0.         0.         1.         1.         0.\n",
      "  0.         1.         0.         0.465      0.76700002]\n",
      " [1.         1.         1.         0.         0.         0.\n",
      "  0.         0.         1.         0.801      0.745     ]]\n",
      "[56.490501 46.296597  0.11111 ]\n"
     ]
    }
   ],
   "source": [
    "input_file1 = \"candy-data.csv\"\n",
    "input_file2 = \"test-data.csv\"\n",
    "data1 = np.loadtxt(input_file1, delimiter=',', usecols=[1,2,3,4,5,6,7,8,9,10,11,12,13])\n",
    "data2 = np.loadtxt(input_file2, delimiter=',', usecols=[1,2,3,4,5,6,7,8,9,10,11,12,13])\n",
    "X_train, y_train = data1[:, :-2], data1[:, -2]\n",
    "X_test, y_test = data2[:, :-2], data2[:, -2]\n",
    "print(X_train)\n",
    "print(y_train)\n",
    "print(X_test)\n",
    "print(y_test)"
   ]
  },
  {
   "cell_type": "code",
   "execution_count": 24,
   "metadata": {},
   "outputs": [
    {
     "data": {
      "text/plain": [
       "LinearRegression()"
      ]
     },
     "execution_count": 24,
     "metadata": {},
     "output_type": "execute_result"
    }
   ],
   "source": [
    "regressor.fit(X_train, y_train)"
   ]
  },
  {
   "cell_type": "code",
   "execution_count": 25,
   "metadata": {},
   "outputs": [
    {
     "name": "stdout",
     "output_type": "stream",
     "text": [
      "52.61863083634986\n",
      "37.62995508375694\n",
      "71.07726766828422\n",
      "error: 83.50466974817743\n"
     ]
    }
   ],
   "source": [
    "y_test_pred = regressor.predict(X_test)\n",
    "for yy in y_test_pred:\n",
    "    print(yy)\n",
    "error = sum(abs(y_test-y_test_pred))\n",
    "print(\"error:\",error)"
   ]
  },
  {
   "cell_type": "code",
   "execution_count": null,
   "metadata": {},
   "outputs": [],
   "source": []
  }
 ],
 "metadata": {
  "kernelspec": {
   "display_name": "Python 3",
   "language": "python",
   "name": "python3"
  },
  "language_info": {
   "codemirror_mode": {
    "name": "ipython",
    "version": 3
   },
   "file_extension": ".py",
   "mimetype": "text/x-python",
   "name": "python",
   "nbconvert_exporter": "python",
   "pygments_lexer": "ipython3",
   "version": "3.8.2"
  }
 },
 "nbformat": 4,
 "nbformat_minor": 4
}

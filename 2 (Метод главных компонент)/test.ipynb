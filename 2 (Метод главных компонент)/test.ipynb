{
 "cells": [
  {
   "cell_type": "code",
   "execution_count": 128,
   "metadata": {},
   "outputs": [],
   "source": [
    "import numpy as np\n",
    "import matplotlib.pyplot as plt\n",
    "import numpy\n",
    "import matplotlib\n",
    "import pandas as pd\n",
    "import scipy\n",
    "from scipy.spatial import distance\n",
    "from sklearn.preprocessing import MinMaxScaler\n",
    "from sklearn.decomposition import PCA\n",
    "from sklearn import datasets\n",
    "\n",
    "%matplotlib inline"
   ]
  },
  {
   "cell_type": "markdown",
   "metadata": {},
   "source": [
    "# without sklearn"
   ]
  },
  {
   "cell_type": "code",
   "execution_count": 172,
   "metadata": {
    "scrolled": false
   },
   "outputs": [
    {
     "data": {
      "text/html": [
       "<div>\n",
       "<style scoped>\n",
       "    .dataframe tbody tr th:only-of-type {\n",
       "        vertical-align: middle;\n",
       "    }\n",
       "\n",
       "    .dataframe tbody tr th {\n",
       "        vertical-align: top;\n",
       "    }\n",
       "\n",
       "    .dataframe thead th {\n",
       "        text-align: right;\n",
       "    }\n",
       "</style>\n",
       "<table border=\"1\" class=\"dataframe\">\n",
       "  <thead>\n",
       "    <tr style=\"text-align: right;\">\n",
       "      <th></th>\n",
       "      <th>0</th>\n",
       "      <th>1</th>\n",
       "      <th>2</th>\n",
       "      <th>3</th>\n",
       "      <th>4</th>\n",
       "      <th>5</th>\n",
       "      <th>6</th>\n",
       "      <th>7</th>\n",
       "      <th>8</th>\n",
       "      <th>9</th>\n",
       "    </tr>\n",
       "  </thead>\n",
       "  <tbody>\n",
       "    <tr>\n",
       "      <th>0</th>\n",
       "      <td>13.255663</td>\n",
       "      <td>-3.970881</td>\n",
       "      <td>2.796957</td>\n",
       "      <td>-6.344109</td>\n",
       "      <td>24.017276</td>\n",
       "      <td>-18.697087</td>\n",
       "      <td>21.128203</td>\n",
       "      <td>-18.501314</td>\n",
       "      <td>-0.839574</td>\n",
       "      <td>-16.191357</td>\n",
       "    </tr>\n",
       "    <tr>\n",
       "      <th>1</th>\n",
       "      <td>-26.357436</td>\n",
       "      <td>7.110444</td>\n",
       "      <td>16.870685</td>\n",
       "      <td>4.426741</td>\n",
       "      <td>15.145726</td>\n",
       "      <td>17.248351</td>\n",
       "      <td>-12.547473</td>\n",
       "      <td>17.486641</td>\n",
       "      <td>-9.131461</td>\n",
       "      <td>-20.452525</td>\n",
       "    </tr>\n",
       "    <tr>\n",
       "      <th>2</th>\n",
       "      <td>-3.576196</td>\n",
       "      <td>-18.649942</td>\n",
       "      <td>24.643430</td>\n",
       "      <td>-14.978293</td>\n",
       "      <td>-9.286028</td>\n",
       "      <td>8.377791</td>\n",
       "      <td>4.414909</td>\n",
       "      <td>-12.870903</td>\n",
       "      <td>15.586781</td>\n",
       "      <td>-0.174785</td>\n",
       "    </tr>\n",
       "    <tr>\n",
       "      <th>3</th>\n",
       "      <td>-23.203200</td>\n",
       "      <td>8.301919</td>\n",
       "      <td>16.095409</td>\n",
       "      <td>7.643220</td>\n",
       "      <td>16.914143</td>\n",
       "      <td>16.649280</td>\n",
       "      <td>-8.603661</td>\n",
       "      <td>16.012082</td>\n",
       "      <td>-11.373881</td>\n",
       "      <td>-21.142902</td>\n",
       "    </tr>\n",
       "    <tr>\n",
       "      <th>4</th>\n",
       "      <td>9.998677</td>\n",
       "      <td>-0.640020</td>\n",
       "      <td>2.602077</td>\n",
       "      <td>-4.334787</td>\n",
       "      <td>22.336607</td>\n",
       "      <td>-23.446092</td>\n",
       "      <td>20.818255</td>\n",
       "      <td>-17.437508</td>\n",
       "      <td>-0.637234</td>\n",
       "      <td>-16.413384</td>\n",
       "    </tr>\n",
       "  </tbody>\n",
       "</table>\n",
       "</div>"
      ],
      "text/plain": [
       "           0          1          2          3          4          5  \\\n",
       "0  13.255663  -3.970881   2.796957  -6.344109  24.017276 -18.697087   \n",
       "1 -26.357436   7.110444  16.870685   4.426741  15.145726  17.248351   \n",
       "2  -3.576196 -18.649942  24.643430 -14.978293  -9.286028   8.377791   \n",
       "3 -23.203200   8.301919  16.095409   7.643220  16.914143  16.649280   \n",
       "4   9.998677  -0.640020   2.602077  -4.334787  22.336607 -23.446092   \n",
       "\n",
       "           6          7          8          9  \n",
       "0  21.128203 -18.501314  -0.839574 -16.191357  \n",
       "1 -12.547473  17.486641  -9.131461 -20.452525  \n",
       "2   4.414909 -12.870903  15.586781  -0.174785  \n",
       "3  -8.603661  16.012082 -11.373881 -21.142902  \n",
       "4  20.818255 -17.437508  -0.637234 -16.413384  "
      ]
     },
     "execution_count": 172,
     "metadata": {},
     "output_type": "execute_result"
    }
   ],
   "source": [
    "df = pd.read_csv(\"34_25.csv\", sep=\",\", names=range(10))\n",
    "F = df.to_numpy()\n",
    "df.head()"
   ]
  },
  {
   "cell_type": "code",
   "execution_count": 167,
   "metadata": {},
   "outputs": [],
   "source": [
    "#math\n",
    "n = len(F)\n",
    "O = np.dot(F.T, F)/n\n",
    "l, v = np.linalg.eig(O) #l - собственные числа, v[:,i] - собственные вектора\n",
    "#print(np.dot(O, v[:,0]))\n",
    "#print(np.dot(l[0], v[:,0]))\n",
    "l2 = l.copy()\n",
    "l2.sort()\n",
    "l2 = l2[::-1]"
   ]
  },
  {
   "cell_type": "code",
   "execution_count": 168,
   "metadata": {},
   "outputs": [
    {
     "name": "stdout",
     "output_type": "stream",
     "text": [
      "[[ 0.  0.  5. ...  0.  0.  0.]\n",
      " [ 0.  0.  0. ... 10.  0.  0.]\n",
      " [ 0.  0.  0. ... 16.  9.  0.]\n",
      " ...\n",
      " [ 0.  0.  1. ...  6.  0.  0.]\n",
      " [ 0.  0.  2. ... 12.  0.  0.]\n",
      " [ 0.  0. 10. ... 12.  1.  0.]]\n",
      "[[ 0.         -0.00577193 -0.10069602 ... -0.13088512 -0.13088512\n",
      "  -0.13088512]\n",
      " [ 0.          0.01736194  0.2242008  ...  0.09012861  0.09012861\n",
      "   0.09012861]\n",
      " [ 0.          0.0098574   0.04480717 ... -0.18321057 -0.18321057\n",
      "  -0.18321057]\n",
      " ...\n",
      " [ 1.          0.          0.         ...  0.          0.\n",
      "   0.        ]\n",
      " [ 0.          0.          0.         ...  0.          0.\n",
      "   0.        ]\n",
      " [ 0.          0.          0.         ...  0.          0.\n",
      "   0.        ]]\n"
     ]
    }
   ],
   "source": [
    "V = []\n",
    "for L in l2:\n",
    "    index = np.where(l==L)[0][0]\n",
    "    V.append(v[index])\n",
    "V = np.array(V)\n",
    "print(F)\n",
    "print(V.T)"
   ]
  },
  {
   "cell_type": "code",
   "execution_count": 169,
   "metadata": {},
   "outputs": [
    {
     "name": "stdout",
     "output_type": "stream",
     "text": [
      "[[  0.          -4.20597508 -20.24875183 ...  -8.74038405  -8.74038405\n",
      "   -8.74038405]\n",
      " [ 10.         -10.9602738   -3.57292602 ... -12.2780427  -12.2780427\n",
      "  -12.2780427 ]\n",
      " [ 16.         -11.11669294 -10.80237491 ... -11.2719134  -11.2719134\n",
      "  -11.2719134 ]\n",
      " ...\n",
      " [  6.          -9.19421692  -3.98246603 ...  -8.85971858  -8.85971858\n",
      "   -8.85971858]\n",
      " [ 12.          -8.02977516 -18.77221661 ... -19.65794747 -19.65794747\n",
      "  -19.65794747]\n",
      " [ 12.          -6.63998961 -10.07216265 ... -15.241594   -15.241594\n",
      "  -15.241594  ]]\n"
     ]
    }
   ],
   "source": [
    "#Z=FV\n",
    "Z = np.dot(F, V.T)\n",
    "print(Z)"
   ]
  },
  {
   "cell_type": "code",
   "execution_count": 142,
   "metadata": {},
   "outputs": [
    {
     "name": "stdout",
     "output_type": "stream",
     "text": [
      "[[ 0.          0.          0.         ...  1.          0.\n",
      "   0.        ]\n",
      " [-0.00577193  0.01736194  0.0098574  ...  0.          0.\n",
      "   0.        ]\n",
      " [-0.10069602  0.2242008   0.04480717 ...  0.          0.\n",
      "   0.        ]\n",
      " ...\n",
      " [-0.13088512  0.09012861 -0.18321057 ...  0.          0.\n",
      "   0.        ]\n",
      " [-0.03923437  0.03684109 -0.02149533 ...  0.          0.\n",
      "   0.        ]\n",
      " [-0.00676005  0.01151507  0.00640454 ...  0.          0.\n",
      "   0.        ]]\n",
      "[2.67655672e+03 1.78901135e+02 1.63477656e+02 1.41440698e+02\n",
      " 1.00795421e+02 6.94285642e+01 5.71177942e+01 5.07784914e+01\n",
      " 4.34903153e+01 4.01239250e+01 2.90948593e+01 2.79631908e+01\n",
      " 2.39822851e+01 2.15991904e+01 1.92081332e+01 1.69941633e+01\n",
      " 1.62432236e+01 1.52329995e+01 1.22335697e+01 1.16895737e+01\n",
      " 1.08042409e+01 9.60142865e+00 9.23335230e+00 8.68898815e+00\n",
      " 8.36803083e+00 7.18666966e+00 6.91734005e+00 6.22677050e+00\n",
      " 5.88979324e+00 5.15371724e+00 4.49039060e+00 4.25836394e+00\n",
      " 4.04768288e+00 3.94123258e+00 3.71841725e+00 3.53060076e+00\n",
      " 3.08523617e+00 2.73676526e+00 2.67150388e+00 2.54720030e+00\n",
      " 2.28200654e+00 1.90648425e+00 1.82087588e+00 1.68998517e+00\n",
      " 1.40165316e+00 1.29200301e+00 1.15831455e+00 9.30792321e-01\n",
      " 6.72614835e-01 4.86099191e-01 2.52241289e-01 9.91051934e-02\n",
      " 6.33801262e-02 6.07154475e-02 3.96443351e-02 1.49449360e-02\n",
      " 8.47636640e-03 3.62717048e-03 4.12066657e-04 6.60934881e-04\n",
      " 1.27698234e-03 0.00000000e+00 0.00000000e+00 0.00000000e+00]\n"
     ]
    }
   ],
   "source": [
    "print(v) #собственные вектора\n",
    "print(l) #собственные числа"
   ]
  },
  {
   "cell_type": "markdown",
   "metadata": {},
   "source": [
    "# with sklearn"
   ]
  },
  {
   "cell_type": "code",
   "execution_count": 185,
   "metadata": {},
   "outputs": [],
   "source": [
    "pca = PCA(n_components=2, svd_solver='full')"
   ]
  },
  {
   "cell_type": "code",
   "execution_count": 186,
   "metadata": {},
   "outputs": [
    {
     "name": "stdout",
     "output_type": "stream",
     "text": [
      "[[-34.78385542 -22.59549992]\n",
      " [ 12.65462903  30.34120785]\n",
      " [-10.86457445 -20.62457524]\n",
      " [ 10.6242521   29.65375074]\n",
      " [-33.9262402  -20.67442681]\n",
      " [-17.06771031  28.64975227]\n",
      " [ 51.37507454 -16.70522789]\n",
      " [ -8.10479142 -22.38014373]\n",
      " [ 45.83407404 -14.01387413]\n",
      " [  8.85269441  29.26619983]\n",
      " [ 50.135796   -14.34876135]\n",
      " [ 11.52591182  28.8455728 ]\n",
      " [-14.32973052  28.92882176]\n",
      " [ -7.32200673 -23.67253794]\n",
      " [ -7.84504591 -22.52841942]\n",
      " [-17.77144854  30.89893748]\n",
      " [ 48.23321962 -13.13982203]\n",
      " [ 10.70064365  29.08144968]\n",
      " [ -7.81842006 -23.38527825]\n",
      " [ -7.7070086  -23.48130365]\n",
      " [-16.20751365  27.16600187]\n",
      " [ 50.2471334  -16.04837794]\n",
      " [-15.38843078  27.25656976]\n",
      " [ 10.74650057  30.53148709]\n",
      " [-20.42678116  28.87035416]\n",
      " [-35.59741424 -23.00310173]\n",
      " [-30.61624805 -22.12761637]\n",
      " [ 10.84170631  31.74510153]\n",
      " [ 49.19197027 -15.2601062 ]\n",
      " [-31.60230636 -20.11001716]\n",
      " [-31.18194997 -22.3936765 ]\n",
      " [ 48.02110961 -15.18121144]\n",
      " [-34.64109256 -23.25463127]\n",
      " [ 48.41842764 -15.39752015]\n",
      " [-16.85323621  31.14440534]\n",
      " [-19.17370065  29.59241938]\n",
      " [ 46.8145055  -14.38563843]\n",
      " [-31.23504494 -23.33795256]\n",
      " [ 11.45563329  29.41930819]\n",
      " [ -8.12232258 -21.95079902]\n",
      " [-33.92666691 -23.79703963]\n",
      " [ -8.9356432  -22.15857396]\n",
      " [-18.57271688  31.77763745]\n",
      " [ -8.20251074 -22.73333423]\n",
      " [-11.63713996 -21.38416582]\n",
      " [-34.95426134 -19.78999855]\n",
      " [-19.02297813  28.21743034]\n",
      " [  7.7098872   28.16474382]\n",
      " [-32.41986538 -20.21581973]\n",
      " [-17.94479216  30.44612631]\n",
      " [ 47.93036072 -17.72228364]\n",
      " [ 47.12363211 -14.13387093]\n",
      " [ 10.83233642  28.00235555]\n",
      " [ 12.58735936  32.35341461]\n",
      " [ -8.34481847 -22.03573704]\n",
      " [-15.87856981  28.81150588]\n",
      " [ 10.82590975  30.60198199]\n",
      " [ 48.10685379 -13.73130306]\n",
      " [-33.86768864 -20.15049331]\n",
      " [ -8.49509625 -21.91339665]]\n"
     ]
    }
   ],
   "source": [
    "X_full = pca.fit(F).transform(F)\n",
    "print(X_full)"
   ]
  },
  {
   "cell_type": "code",
   "execution_count": 189,
   "metadata": {},
   "outputs": [
    {
     "data": {
      "text/plain": [
       "<matplotlib.collections.PathCollection at 0x16a9bdd6760>"
      ]
     },
     "execution_count": 189,
     "metadata": {},
     "output_type": "execute_result"
    },
    {
     "data": {
      "image/png": "[encoded data removed]",
      "text/plain": [
       "<Figure size 432x288 with 1 Axes>"
      ]
     },
     "metadata": {
      "needs_background": "light"
     },
     "output_type": "display_data"
    }
   ],
   "source": [
    "#если n_components=2\n",
    "plt.scatter(X_full[:101, 0], X_full[:101, 1], edgecolor='none', s=40,cmap='winter')"
   ]
  },
  {
   "cell_type": "code",
   "execution_count": 182,
   "metadata": {},
   "outputs": [
    {
     "data": {
      "text/plain": [
       "array([0.406, 0.71 , 0.907, 0.994, 0.996, 0.997, 0.998, 0.999, 0.999,\n",
       "       1.   ])"
      ]
     },
     "execution_count": 182,
     "metadata": {},
     "output_type": "execute_result"
    }
   ],
   "source": [
    "explained_variance = np.round(np.cumsum(pca.explained_variance_ratio_),3)\n",
    "explained_variance"
   ]
  },
  {
   "cell_type": "code",
   "execution_count": 183,
   "metadata": {},
   "outputs": [
    {
     "data": {
      "text/plain": [
       "[<matplotlib.lines.Line2D at 0x16a9be575e0>]"
      ]
     },
     "execution_count": 183,
     "metadata": {},
     "output_type": "execute_result"
    },
    {
     "data": {
      "image/png": "[encoded data removed]",
      "text/plain": [
       "<Figure size 432x288 with 1 Axes>"
      ]
     },
     "metadata": {
      "needs_background": "light"
     },
     "output_type": "display_data"
    }
   ],
   "source": [
    "plt.plot(np.arange(10), explained_variance, ls = '-')"
   ]
  },
  {
   "cell_type": "markdown",
   "metadata": {},
   "source": [
    "# 2.1"
   ]
  },
  {
   "cell_type": "code",
   "execution_count": 193,
   "metadata": {},
   "outputs": [
    {
     "data": {
      "text/html": [
       "<div>\n",
       "<style scoped>\n",
       "    .dataframe tbody tr th:only-of-type {\n",
       "        vertical-align: middle;\n",
       "    }\n",
       "\n",
       "    .dataframe tbody tr th {\n",
       "        vertical-align: top;\n",
       "    }\n",
       "\n",
       "    .dataframe thead th {\n",
       "        text-align: right;\n",
       "    }\n",
       "</style>\n",
       "<table border=\"1\" class=\"dataframe\">\n",
       "  <thead>\n",
       "    <tr style=\"text-align: right;\">\n",
       "      <th></th>\n",
       "      <th>0</th>\n",
       "      <th>1</th>\n",
       "      <th>2</th>\n",
       "      <th>3</th>\n",
       "      <th>4</th>\n",
       "      <th>5</th>\n",
       "      <th>6</th>\n",
       "      <th>7</th>\n",
       "      <th>8</th>\n",
       "      <th>9</th>\n",
       "    </tr>\n",
       "  </thead>\n",
       "  <tbody>\n",
       "    <tr>\n",
       "      <th>0</th>\n",
       "      <td>0.813516</td>\n",
       "      <td>46.249795</td>\n",
       "      <td>48.287749</td>\n",
       "      <td>-35.611005</td>\n",
       "      <td>-200.935466</td>\n",
       "      <td>-53.587974</td>\n",
       "      <td>-7.265691</td>\n",
       "      <td>-2.084236</td>\n",
       "      <td>-3.816588</td>\n",
       "      <td>-14.379928</td>\n",
       "    </tr>\n",
       "    <tr>\n",
       "      <th>1</th>\n",
       "      <td>0.813516</td>\n",
       "      <td>46.249795</td>\n",
       "      <td>48.287749</td>\n",
       "      <td>-35.611005</td>\n",
       "      <td>-200.935466</td>\n",
       "      <td>-53.587974</td>\n",
       "      <td>-7.265691</td>\n",
       "      <td>-2.084236</td>\n",
       "      <td>-3.816588</td>\n",
       "      <td>-14.379928</td>\n",
       "    </tr>\n",
       "    <tr>\n",
       "      <th>2</th>\n",
       "      <td>0.813516</td>\n",
       "      <td>46.249795</td>\n",
       "      <td>48.287749</td>\n",
       "      <td>-35.611005</td>\n",
       "      <td>-200.935466</td>\n",
       "      <td>-53.587974</td>\n",
       "      <td>-7.265691</td>\n",
       "      <td>-2.084236</td>\n",
       "      <td>-3.816588</td>\n",
       "      <td>-14.379928</td>\n",
       "    </tr>\n",
       "    <tr>\n",
       "      <th>3</th>\n",
       "      <td>0.813516</td>\n",
       "      <td>46.249795</td>\n",
       "      <td>48.287749</td>\n",
       "      <td>-35.611005</td>\n",
       "      <td>-200.935466</td>\n",
       "      <td>-53.587974</td>\n",
       "      <td>-7.265691</td>\n",
       "      <td>-2.084236</td>\n",
       "      <td>-3.816588</td>\n",
       "      <td>-14.379928</td>\n",
       "    </tr>\n",
       "    <tr>\n",
       "      <th>4</th>\n",
       "      <td>0.813516</td>\n",
       "      <td>46.249795</td>\n",
       "      <td>48.287749</td>\n",
       "      <td>-35.611005</td>\n",
       "      <td>-200.935466</td>\n",
       "      <td>-53.587974</td>\n",
       "      <td>-7.265691</td>\n",
       "      <td>-2.084236</td>\n",
       "      <td>-3.816588</td>\n",
       "      <td>-14.379928</td>\n",
       "    </tr>\n",
       "  </tbody>\n",
       "</table>\n",
       "</div>"
      ],
      "text/plain": [
       "          0          1          2          3           4          5         6  \\\n",
       "0  0.813516  46.249795  48.287749 -35.611005 -200.935466 -53.587974 -7.265691   \n",
       "1  0.813516  46.249795  48.287749 -35.611005 -200.935466 -53.587974 -7.265691   \n",
       "2  0.813516  46.249795  48.287749 -35.611005 -200.935466 -53.587974 -7.265691   \n",
       "3  0.813516  46.249795  48.287749 -35.611005 -200.935466 -53.587974 -7.265691   \n",
       "4  0.813516  46.249795  48.287749 -35.611005 -200.935466 -53.587974 -7.265691   \n",
       "\n",
       "          7         8          9  \n",
       "0 -2.084236 -3.816588 -14.379928  \n",
       "1 -2.084236 -3.816588 -14.379928  \n",
       "2 -2.084236 -3.816588 -14.379928  \n",
       "3 -2.084236 -3.816588 -14.379928  \n",
       "4 -2.084236 -3.816588 -14.379928  "
      ]
     },
     "execution_count": 193,
     "metadata": {},
     "output_type": "execute_result"
    }
   ],
   "source": [
    "df = pd.read_csv(\"X_reduced_408.csv\", sep=\";\", names=range(10))\n",
    "Z = df.to_numpy()\n",
    "df.head()"
   ]
  },
  {
   "cell_type": "code",
   "execution_count": 194,
   "metadata": {},
   "outputs": [
    {
     "data": {
      "text/html": [
       "<div>\n",
       "<style scoped>\n",
       "    .dataframe tbody tr th:only-of-type {\n",
       "        vertical-align: middle;\n",
       "    }\n",
       "\n",
       "    .dataframe tbody tr th {\n",
       "        vertical-align: top;\n",
       "    }\n",
       "\n",
       "    .dataframe thead th {\n",
       "        text-align: right;\n",
       "    }\n",
       "</style>\n",
       "<table border=\"1\" class=\"dataframe\">\n",
       "  <thead>\n",
       "    <tr style=\"text-align: right;\">\n",
       "      <th></th>\n",
       "      <th>0</th>\n",
       "      <th>1</th>\n",
       "      <th>2</th>\n",
       "      <th>3</th>\n",
       "      <th>4</th>\n",
       "      <th>5</th>\n",
       "      <th>6</th>\n",
       "      <th>7</th>\n",
       "      <th>8</th>\n",
       "      <th>9</th>\n",
       "    </tr>\n",
       "  </thead>\n",
       "  <tbody>\n",
       "    <tr>\n",
       "      <th>0</th>\n",
       "      <td>2.787744e-20</td>\n",
       "      <td>2.119321e-18</td>\n",
       "      <td>3.091457e-18</td>\n",
       "      <td>-2.821326e-18</td>\n",
       "      <td>-1.830720e-17</td>\n",
       "      <td>-7.298324e-18</td>\n",
       "      <td>-3.430076e-18</td>\n",
       "      <td>-1.167668e-18</td>\n",
       "      <td>-2.241555e-18</td>\n",
       "      <td>-1.119798e-17</td>\n",
       "    </tr>\n",
       "    <tr>\n",
       "      <th>1</th>\n",
       "      <td>3.339343e-17</td>\n",
       "      <td>5.551115e-17</td>\n",
       "      <td>0.000000e+00</td>\n",
       "      <td>-2.775558e-17</td>\n",
       "      <td>-0.000000e+00</td>\n",
       "      <td>5.551115e-17</td>\n",
       "      <td>-1.387779e-17</td>\n",
       "      <td>-3.122502e-17</td>\n",
       "      <td>1.040834e-17</td>\n",
       "      <td>-2.775558e-17</td>\n",
       "    </tr>\n",
       "    <tr>\n",
       "      <th>2</th>\n",
       "      <td>1.734723e-17</td>\n",
       "      <td>0.000000e+00</td>\n",
       "      <td>5.551115e-17</td>\n",
       "      <td>-1.387779e-17</td>\n",
       "      <td>-0.000000e+00</td>\n",
       "      <td>1.110223e-16</td>\n",
       "      <td>4.163336e-17</td>\n",
       "      <td>4.857226e-17</td>\n",
       "      <td>-2.775558e-17</td>\n",
       "      <td>-2.775558e-17</td>\n",
       "    </tr>\n",
       "    <tr>\n",
       "      <th>3</th>\n",
       "      <td>-4.857226e-17</td>\n",
       "      <td>0.000000e+00</td>\n",
       "      <td>-4.163336e-17</td>\n",
       "      <td>-1.387779e-17</td>\n",
       "      <td>2.775558e-17</td>\n",
       "      <td>-1.110223e-16</td>\n",
       "      <td>-2.775558e-17</td>\n",
       "      <td>-2.081668e-17</td>\n",
       "      <td>-2.775558e-17</td>\n",
       "      <td>-1.665335e-16</td>\n",
       "    </tr>\n",
       "    <tr>\n",
       "      <th>4</th>\n",
       "      <td>0.000000e+00</td>\n",
       "      <td>0.000000e+00</td>\n",
       "      <td>0.000000e+00</td>\n",
       "      <td>-0.000000e+00</td>\n",
       "      <td>1.387779e-17</td>\n",
       "      <td>5.551115e-17</td>\n",
       "      <td>2.775558e-17</td>\n",
       "      <td>-3.469447e-17</td>\n",
       "      <td>6.938894e-18</td>\n",
       "      <td>1.110223e-16</td>\n",
       "    </tr>\n",
       "  </tbody>\n",
       "</table>\n",
       "</div>"
      ],
      "text/plain": [
       "              0             1             2             3             4  \\\n",
       "0  2.787744e-20  2.119321e-18  3.091457e-18 -2.821326e-18 -1.830720e-17   \n",
       "1  3.339343e-17  5.551115e-17  0.000000e+00 -2.775558e-17 -0.000000e+00   \n",
       "2  1.734723e-17  0.000000e+00  5.551115e-17 -1.387779e-17 -0.000000e+00   \n",
       "3 -4.857226e-17  0.000000e+00 -4.163336e-17 -1.387779e-17  2.775558e-17   \n",
       "4  0.000000e+00  0.000000e+00  0.000000e+00 -0.000000e+00  1.387779e-17   \n",
       "\n",
       "              5             6             7             8             9  \n",
       "0 -7.298324e-18 -3.430076e-18 -1.167668e-18 -2.241555e-18 -1.119798e-17  \n",
       "1  5.551115e-17 -1.387779e-17 -3.122502e-17  1.040834e-17 -2.775558e-17  \n",
       "2  1.110223e-16  4.163336e-17  4.857226e-17 -2.775558e-17 -2.775558e-17  \n",
       "3 -1.110223e-16 -2.775558e-17 -2.081668e-17 -2.775558e-17 -1.665335e-16  \n",
       "4  5.551115e-17  2.775558e-17 -3.469447e-17  6.938894e-18  1.110223e-16  "
      ]
     },
     "execution_count": 194,
     "metadata": {},
     "output_type": "execute_result"
    }
   ],
   "source": [
    "df = pd.read_csv(\"X_loadings_408.csv\", sep=\";\", names=range(10))\n",
    "F = df.to_numpy()\n",
    "df.head()"
   ]
  },
  {
   "cell_type": "code",
   "execution_count": 199,
   "metadata": {},
   "outputs": [
    {
     "name": "stdout",
     "output_type": "stream",
     "text": [
      "[[ 4.61439629e-15  1.13353010e-15 -2.65931395e-15 ...  0.00000000e+00\n",
      "   0.00000000e+00  0.00000000e+00]\n",
      " [ 4.61439629e-15  1.13353010e-15 -2.65931395e-15 ...  0.00000000e+00\n",
      "   0.00000000e+00  0.00000000e+00]\n",
      " [ 4.61439629e-15  1.13353010e-15 -2.65931395e-15 ...  0.00000000e+00\n",
      "   0.00000000e+00  0.00000000e+00]\n",
      " ...\n",
      " [ 4.61439629e-15  1.13353010e-15 -2.65931395e-15 ...  0.00000000e+00\n",
      "   0.00000000e+00  0.00000000e+00]\n",
      " [ 4.61439629e-15  1.13353010e-15 -2.65931395e-15 ...  0.00000000e+00\n",
      "   0.00000000e+00  0.00000000e+00]\n",
      " [ 4.61439629e-15  1.13353010e-15 -2.65931395e-15 ...  0.00000000e+00\n",
      "   0.00000000e+00  0.00000000e+00]]\n"
     ]
    }
   ],
   "source": [
    "#Z=FX => X=F_T*Z =>\n",
    "X = np.dot(Z, F.T)\n",
    "print(X)"
   ]
  },
  {
   "cell_type": "code",
   "execution_count": 200,
   "metadata": {},
   "outputs": [
    {
     "data": {
      "text/plain": [
       "<matplotlib.image.AxesImage at 0x16a9be24fd0>"
      ]
     },
     "execution_count": 200,
     "metadata": {},
     "output_type": "execute_result"
    },
    {
     "data": {
      "image/png": "[encoded data removed]",
      "text/plain": [
       "<Figure size 432x288 with 1 Axes>"
      ]
     },
     "metadata": {
      "needs_background": "light"
     },
     "output_type": "display_data"
    }
   ],
   "source": [
    "plt.imshow(X, cmap='Greys_r')"
   ]
  },
  {
   "cell_type": "code",
   "execution_count": null,
   "metadata": {},
   "outputs": [],
   "source": []
  }
 ],
 "metadata": {
  "kernelspec": {
   "display_name": "Python 3",
   "language": "python",
   "name": "python3"
  },
  "language_info": {
   "codemirror_mode": {
    "name": "ipython",
    "version": 3
   },
   "file_extension": ".py",
   "mimetype": "text/x-python",
   "name": "python",
   "nbconvert_exporter": "python",
   "pygments_lexer": "ipython3",
   "version": "3.8.2"
  }
 },
 "nbformat": 4,
 "nbformat_minor": 4
}

{
 "cells": [
  {
   "cell_type": "code",
   "execution_count": 95,
   "metadata": {},
   "outputs": [],
   "source": [
    "import numpy as np\n",
    "import matplotlib.pyplot as plt\n",
    "import numpy\n",
    "import matplotlib\n",
    "import pandas as pd\n",
    "import scipy\n",
    "from scipy.spatial import distance\n",
    "from sklearn.preprocessing import MinMaxScaler\n",
    "from sklearn.decomposition import PCA\n",
    "from sklearn import datasets\n",
    "\n",
    "%matplotlib inline"
   ]
  },
  {
   "cell_type": "markdown",
   "metadata": {},
   "source": [
    "# without sklearn"
   ]
  },
  {
   "cell_type": "code",
   "execution_count": 96,
   "metadata": {
    "scrolled": false
   },
   "outputs": [
    {
     "data": {
      "text/html": [
       "<div>\n",
       "<style scoped>\n",
       "    .dataframe tbody tr th:only-of-type {\n",
       "        vertical-align: middle;\n",
       "    }\n",
       "\n",
       "    .dataframe tbody tr th {\n",
       "        vertical-align: top;\n",
       "    }\n",
       "\n",
       "    .dataframe thead th {\n",
       "        text-align: right;\n",
       "    }\n",
       "</style>\n",
       "<table border=\"1\" class=\"dataframe\">\n",
       "  <thead>\n",
       "    <tr style=\"text-align: right;\">\n",
       "      <th></th>\n",
       "      <th>1</th>\n",
       "      <th>2</th>\n",
       "      <th>3</th>\n",
       "      <th>4</th>\n",
       "      <th>5</th>\n",
       "      <th>6</th>\n",
       "      <th>7</th>\n",
       "      <th>8</th>\n",
       "      <th>9</th>\n",
       "      <th>10</th>\n",
       "    </tr>\n",
       "  </thead>\n",
       "  <tbody>\n",
       "    <tr>\n",
       "      <th>0</th>\n",
       "      <td>13.255663</td>\n",
       "      <td>-3.970881</td>\n",
       "      <td>2.796957</td>\n",
       "      <td>-6.344109</td>\n",
       "      <td>24.017276</td>\n",
       "      <td>-18.697087</td>\n",
       "      <td>21.128203</td>\n",
       "      <td>-18.501314</td>\n",
       "      <td>-0.839574</td>\n",
       "      <td>-16.191357</td>\n",
       "    </tr>\n",
       "    <tr>\n",
       "      <th>1</th>\n",
       "      <td>-26.357436</td>\n",
       "      <td>7.110444</td>\n",
       "      <td>16.870685</td>\n",
       "      <td>4.426741</td>\n",
       "      <td>15.145726</td>\n",
       "      <td>17.248351</td>\n",
       "      <td>-12.547473</td>\n",
       "      <td>17.486641</td>\n",
       "      <td>-9.131461</td>\n",
       "      <td>-20.452525</td>\n",
       "    </tr>\n",
       "    <tr>\n",
       "      <th>2</th>\n",
       "      <td>-3.576196</td>\n",
       "      <td>-18.649942</td>\n",
       "      <td>24.643430</td>\n",
       "      <td>-14.978293</td>\n",
       "      <td>-9.286028</td>\n",
       "      <td>8.377791</td>\n",
       "      <td>4.414909</td>\n",
       "      <td>-12.870903</td>\n",
       "      <td>15.586781</td>\n",
       "      <td>-0.174785</td>\n",
       "    </tr>\n",
       "    <tr>\n",
       "      <th>3</th>\n",
       "      <td>-23.203200</td>\n",
       "      <td>8.301919</td>\n",
       "      <td>16.095409</td>\n",
       "      <td>7.643220</td>\n",
       "      <td>16.914143</td>\n",
       "      <td>16.649280</td>\n",
       "      <td>-8.603661</td>\n",
       "      <td>16.012082</td>\n",
       "      <td>-11.373881</td>\n",
       "      <td>-21.142902</td>\n",
       "    </tr>\n",
       "    <tr>\n",
       "      <th>4</th>\n",
       "      <td>9.998677</td>\n",
       "      <td>-0.640020</td>\n",
       "      <td>2.602077</td>\n",
       "      <td>-4.334787</td>\n",
       "      <td>22.336607</td>\n",
       "      <td>-23.446092</td>\n",
       "      <td>20.818255</td>\n",
       "      <td>-17.437508</td>\n",
       "      <td>-0.637234</td>\n",
       "      <td>-16.413384</td>\n",
       "    </tr>\n",
       "  </tbody>\n",
       "</table>\n",
       "</div>"
      ],
      "text/plain": [
       "          1          2          3          4          5          6   \\\n",
       "0  13.255663  -3.970881   2.796957  -6.344109  24.017276 -18.697087   \n",
       "1 -26.357436   7.110444  16.870685   4.426741  15.145726  17.248351   \n",
       "2  -3.576196 -18.649942  24.643430 -14.978293  -9.286028   8.377791   \n",
       "3 -23.203200   8.301919  16.095409   7.643220  16.914143  16.649280   \n",
       "4   9.998677  -0.640020   2.602077  -4.334787  22.336607 -23.446092   \n",
       "\n",
       "          7          8          9          10  \n",
       "0  21.128203 -18.501314  -0.839574 -16.191357  \n",
       "1 -12.547473  17.486641  -9.131461 -20.452525  \n",
       "2   4.414909 -12.870903  15.586781  -0.174785  \n",
       "3  -8.603661  16.012082 -11.373881 -21.142902  \n",
       "4  20.818255 -17.437508  -0.637234 -16.413384  "
      ]
     },
     "execution_count": 96,
     "metadata": {},
     "output_type": "execute_result"
    }
   ],
   "source": [
    "df = pd.read_csv(\"34_25.csv\", sep=\",\", names=[1,2,3,4,5,6,7,8,9,10])\n",
    "df.head()"
   ]
  },
  {
   "cell_type": "code",
   "execution_count": 97,
   "metadata": {},
   "outputs": [],
   "source": [
    "#math\n",
    "F = df.to_numpy()\n",
    "n = len(F)\n",
    "O = np.dot(F.T, F)/n\n",
    "l, v = np.linalg.eig(O) #l - собственные числа, v[:,i] - собственные вектора\n",
    "#print(np.dot(O, v[:,0]))\n",
    "#print(np.dot(l[0], v[:,0]))\n",
    "l2 = l.copy()\n",
    "l2.sort()\n",
    "l2 = l2[::-1]"
   ]
  },
  {
   "cell_type": "code",
   "execution_count": 98,
   "metadata": {},
   "outputs": [
    {
     "name": "stdout",
     "output_type": "stream",
     "text": [
      "[[ 0.33353844 -0.50394738 -0.20723847  0.26923082 -0.2868924   0.51352048\n",
      "   0.25501026 -0.05598624 -0.32425872 -0.00609802]\n",
      " [-0.23970571  0.10952739 -0.41163101 -0.06623584  0.08230877  0.02244081\n",
      "  -0.2760334  -0.08587199 -0.46090959  0.67337451]\n",
      " [ 0.39087007  0.42695168  0.48278218 -0.07501665 -0.19978009 -0.16834657\n",
      "   0.30886687 -0.13527199 -0.45934813  0.18241741]\n",
      " [-0.08670567  0.31834952 -0.35591168  0.21772661  0.44815235  0.02943964\n",
      "   0.34681829 -0.48510302 -0.16221186 -0.36528063]\n",
      " [ 0.50308109  0.29167199 -0.3869461  -0.21790457 -0.19613268  0.12158599\n",
      "   0.0131031  -0.23989519  0.543837    0.24061572]\n",
      " [-0.45908038  0.25863912  0.32227844 -0.05028833 -0.04974191  0.69645672\n",
      "   0.21668286 -0.06632994  0.20336726  0.18900558]\n",
      " [ 0.03966603  0.51054579 -0.21890051  0.52954541 -0.1949163   0.08641649\n",
      "  -0.08959527  0.58459488 -0.03301611 -0.11447755]\n",
      " [ 0.33292917 -0.04300645  0.0221578  -0.21595664  0.70058922  0.19847005\n",
      "   0.21091923  0.48745303 -0.01113788  0.16656328]\n",
      " [ 0.30348226  0.0382221   0.33306799  0.3649047   0.29289879  0.24857329\n",
      "  -0.65266148 -0.29758792  0.01544628  0.00230647]\n",
      " [-0.05132168 -0.18566748  0.12217615  0.59989402  0.12089582 -0.3132154\n",
      "   0.34276707 -0.07745013  0.32639793  0.49532892]]\n"
     ]
    }
   ],
   "source": [
    "V = []\n",
    "for L in l2:\n",
    "    index = np.where(l==L)[0][0]\n",
    "    V.append(v[index])\n",
    "V = np.array(V)\n",
    "print(V)"
   ]
  },
  {
   "cell_type": "code",
   "execution_count": 99,
   "metadata": {},
   "outputs": [
    {
     "name": "stdout",
     "output_type": "stream",
     "text": [
      "8.7855226359656\n"
     ]
    }
   ],
   "source": [
    "#Z=FV\n",
    "Z = np.dot(F, V)\n",
    "print(Z[0][1])"
   ]
  },
  {
   "cell_type": "markdown",
   "metadata": {},
   "source": [
    "# with sklearn"
   ]
  },
  {
   "cell_type": "code",
   "execution_count": 103,
   "metadata": {},
   "outputs": [
    {
     "name": "stdout",
     "output_type": "stream",
     "text": [
      "[0.40604393 0.30351786 0.19740068 0.08714896 0.00152204 0.0013443\n",
      " 0.00108602 0.00082359 0.0006053  0.00050732]\n",
      "[217.87379687 188.36951472 151.91225638 100.93681222  13.33924134\n",
      "  12.53623526  11.26774684   9.81236939   8.41206249   7.70121945]\n"
     ]
    }
   ],
   "source": [
    "pca = PCA(n_components=10)\n",
    "pca.fit(F)\n",
    "print(pca.explained_variance_ratio_)\n",
    "print(pca.singular_values_)"
   ]
  },
  {
   "cell_type": "code",
   "execution_count": null,
   "metadata": {},
   "outputs": [],
   "source": []
  }
 ],
 "metadata": {
  "kernelspec": {
   "display_name": "Python 3",
   "language": "python",
   "name": "python3"
  },
  "language_info": {
   "codemirror_mode": {
    "name": "ipython",
    "version": 3
   },
   "file_extension": ".py",
   "mimetype": "text/x-python",
   "name": "python",
   "nbconvert_exporter": "python",
   "pygments_lexer": "ipython3",
   "version": "3.8.2"
  }
 },
 "nbformat": 4,
 "nbformat_minor": 4
}
